{
 "cells": [
  {
   "cell_type": "code",
   "execution_count": 1,
   "id": "fff0f4c9",
   "metadata": {},
   "outputs": [],
   "source": [
    "import pandas as pd\n",
    "import numpy as np"
   ]
  },
  {
   "cell_type": "markdown",
   "id": "5fc18c8f",
   "metadata": {},
   "source": [
    "#### Zu den Daten\n",
    "\n",
    "Die Daten wurden von OAG zur Verfügung gestellt. Erfasst sind alle Flüge (Frequency) ab dem Flughafen Zürich, zu denen Sitze angeboten wurden, und ebendiese Sitze (Seats). Es handelt sich also nicht um tatsächlich verkaufte Sitze oder gar um tatsächlich gereiste Passagiere.\n",
    "\n",
    "#### Zu diesem Notebook\n",
    "Im Notebook OAG sind die Daten per Flughafen aufbereitet. Weil die BfS-Daten in den anderen Notebooks aber per Ort aufbereitet sind, schauen wir uns den OAG-Datensatz auch per Ort an."
   ]
  },
  {
   "cell_type": "markdown",
   "id": "fe26a268",
   "metadata": {},
   "source": [
    "## 1. Schritt: Daten einlesen"
   ]
  },
  {
   "cell_type": "code",
   "execution_count": 2,
   "id": "45cfe338",
   "metadata": {},
   "outputs": [],
   "source": [
    "path = \"ZRH_Data.xlsx\"\n",
    "df = pd.read_excel(path, skiprows=24, usecols='A:E') #In den ersten 24 Reihen stehen Angaben zum Datensatz, die wir nicht in der Tabelle brauchen; In den Spalten nach E ist eine Pivot-Tabelle enthalten (deren Ergebnisse stellen wir nachfolgend sowieso selber nach)\n",
    "df.drop([1594,1595,1596], inplace=True) #In den letzten drei Zeilen sind Fusszeilen enthalten"
   ]
  },
  {
   "cell_type": "code",
   "execution_count": 3,
   "id": "ccecc966",
   "metadata": {},
   "outputs": [],
   "source": [
    "#Zahlen zu Integer machen (Anzahl Sitze, Flüge und das Jahr sind immer ganze Zahlen)\n",
    "df['Seats (Total)'] = df['Seats (Total)'].astype(int)\n",
    "df['Frequency'] = df['Frequency'].astype(int)\n",
    "df['Time series'] = df['Time series'].astype(int)"
   ]
  },
  {
   "cell_type": "markdown",
   "id": "b3d419d2",
   "metadata": {},
   "source": [
    "Um die einzelnen Flughäfen einem Ort zuzuweisen, gehen wir alle über eine Abfrage durch. In dieser wird jeweils der Flughafen ausgegeben. In ein Input-Feld kann dann der entsprechende Ort eingegeben werden. Die beiden Angaben werden zusammen in ein Dictionary gespeichert, dieses wiederum in eine Liste und aus dieser Liste entsteht dann ein Dataframe, in dem jedem Flughafen ein Ort zugeordnet ist. Damit wir diese Abfrage nicht jedes Mal machen müssen, speichern wir dieses Dataframe als CSV-Datei ab, die wir dann jeweils nach Bedarf einlesen können. Der Code für die Abfrage ist deshalb auskommentiert."
   ]
  },
  {
   "cell_type": "code",
   "execution_count": 4,
   "id": "600a7b4c",
   "metadata": {},
   "outputs": [],
   "source": [
    "# airports = df['Arr Airport Name'].unique().tolist()\n",
    "# orte = [] #In dieser Liste erfassen wir Dictionaries (Flughafen: Ort)\n",
    "# for airport in airports:\n",
    "#     ort = input(\"In welchem Ort steht der Flughafen \" + str(airport) + \"? \")\n",
    "#     mini_dict = {'Flughafen': airport,\n",
    "#                  'Ort': ort}\n",
    "#     orte.append(mini_dict)\n",
    "# df_orte = pd.DataFrame(orte) \n",
    "# df_orte.to_csv(\"Orte.csv\")"
   ]
  },
  {
   "cell_type": "code",
   "execution_count": 5,
   "id": "03c9b022",
   "metadata": {},
   "outputs": [],
   "source": [
    "#Flughafen/Ort-Zuteilung aus der CSV-Datei einlesen\n",
    "df_orte = pd.read_csv(\"Orte.csv\")\n",
    "df_orte.drop('Unnamed: 0', axis=1, inplace=True)"
   ]
  },
  {
   "cell_type": "code",
   "execution_count": 6,
   "id": "6eec09f9",
   "metadata": {},
   "outputs": [],
   "source": [
    "#Ursprüngliches Dataframe mit dem Dataframe der Orte zusammenführen\n",
    "df = pd.merge(df, df_orte, left_on=\"Arr Airport Name\", right_on=\"Flughafen\")\n",
    "df.drop(\"Arr Airport Name\", axis=1, inplace=True) #Flughafenangabe sonst doppelt"
   ]
  },
  {
   "cell_type": "markdown",
   "id": "6d948894",
   "metadata": {},
   "source": [
    "Im Dataframe existiert pro Fluggsellschaft, angeflogener Destination und Jahr eine Zeile, in der Sitze und Flüge zu dieser Destination erfasst sind. Für die weitere Bearbeitung gruppieren wir erst nach Destinationen und trennen dann Sitze und Flüge in zwei Dataframes auf. So erhalten wir pro Jahr eine Zeile mit allen Sitzen resp. Flügen pro Destination. Die Airlines lassen wir hier aussen vor."
   ]
  },
  {
   "cell_type": "code",
   "execution_count": 8,
   "id": "442239f0",
   "metadata": {},
   "outputs": [],
   "source": [
    "#Nach Destinationen zusammenfassen\n",
    "df_destinationen = df.groupby(['Ort','Time series']).sum().reset_index()"
   ]
  },
  {
   "cell_type": "code",
   "execution_count": 9,
   "id": "4903346b",
   "metadata": {},
   "outputs": [],
   "source": [
    "#Dataframe pivotieren und gleichzeitig Sitze/Flüge aufteilen\n",
    "df_seats = df_destinationen.pivot(index='Time series', columns=['Ort'], values='Seats (Total)')\n",
    "df_flights = df_destinationen.pivot(index='Time series', columns=['Ort'], values='Frequency')"
   ]
  },
  {
   "cell_type": "code",
   "execution_count": 10,
   "id": "20d68d84",
   "metadata": {},
   "outputs": [],
   "source": [
    "#NaN zu 0 machen\n",
    "df_seats = df_seats.fillna(0)\n",
    "df_flights = df_flights.fillna(0)"
   ]
  },
  {
   "cell_type": "code",
   "execution_count": 11,
   "id": "f41fd942",
   "metadata": {},
   "outputs": [],
   "source": [
    "#Zusätzliche Dataframes mit dem Anteil einer Destination am jeweiligen Jahrestotal\n",
    "df_seats_rel = df_seats.div(df_seats.sum(axis=1), axis=0) * 100\n",
    "df_flights_rel = df_flights.div(df_flights.sum(axis=1), axis=0) * 100"
   ]
  },
  {
   "cell_type": "markdown",
   "id": "c3041113",
   "metadata": {},
   "source": [
    "## 2. Schritt: Daten auswerten"
   ]
  },
  {
   "cell_type": "markdown",
   "id": "42937070",
   "metadata": {},
   "source": [
    "Wir betrachten die Top-Destinationen in den einzelnen Jahren. Dazu extrahieren wir pro Jahr jene drei Destinationen zu denen am meisten Sitze angeboten wurden. Das ermöglicht einen Blick darauf, welche Destinationen für den Flughafen Zürich an Bedeutung verloren/gewonnen haben könnten."
   ]
  },
  {
   "cell_type": "code",
   "execution_count": 13,
   "id": "c85e22f4",
   "metadata": {},
   "outputs": [
    {
     "data": {
      "text/html": [
       "<div>\n",
       "<style scoped>\n",
       "    .dataframe tbody tr th:only-of-type {\n",
       "        vertical-align: middle;\n",
       "    }\n",
       "\n",
       "    .dataframe tbody tr th {\n",
       "        vertical-align: top;\n",
       "    }\n",
       "\n",
       "    .dataframe thead th {\n",
       "        text-align: right;\n",
       "    }\n",
       "</style>\n",
       "<table border=\"1\" class=\"dataframe\">\n",
       "  <thead>\n",
       "    <tr style=\"text-align: right;\">\n",
       "      <th></th>\n",
       "      <th>Time series</th>\n",
       "      <th>1st Max</th>\n",
       "      <th>2nd Max</th>\n",
       "      <th>3rd Max</th>\n",
       "    </tr>\n",
       "  </thead>\n",
       "  <tbody>\n",
       "    <tr>\n",
       "      <th>0</th>\n",
       "      <td>2017</td>\n",
       "      <td>London</td>\n",
       "      <td>Berlin</td>\n",
       "      <td>Wien</td>\n",
       "    </tr>\n",
       "    <tr>\n",
       "      <th>1</th>\n",
       "      <td>2018</td>\n",
       "      <td>London</td>\n",
       "      <td>Berlin</td>\n",
       "      <td>Wien</td>\n",
       "    </tr>\n",
       "    <tr>\n",
       "      <th>2</th>\n",
       "      <td>2019</td>\n",
       "      <td>London</td>\n",
       "      <td>Berlin</td>\n",
       "      <td>Wien</td>\n",
       "    </tr>\n",
       "    <tr>\n",
       "      <th>3</th>\n",
       "      <td>2020</td>\n",
       "      <td>London</td>\n",
       "      <td>Berlin</td>\n",
       "      <td>Amsterdam</td>\n",
       "    </tr>\n",
       "    <tr>\n",
       "      <th>4</th>\n",
       "      <td>2021</td>\n",
       "      <td>London</td>\n",
       "      <td>Istanbul</td>\n",
       "      <td>Palma De Mallorca</td>\n",
       "    </tr>\n",
       "  </tbody>\n",
       "</table>\n",
       "</div>"
      ],
      "text/plain": [
       "   Time series 1st Max   2nd Max            3rd Max\n",
       "0         2017  London    Berlin               Wien\n",
       "1         2018  London    Berlin               Wien\n",
       "2         2019  London    Berlin               Wien\n",
       "3         2020  London    Berlin          Amsterdam\n",
       "4         2021  London  Istanbul  Palma De Mallorca"
      ]
     },
     "execution_count": 13,
     "metadata": {},
     "output_type": "execute_result"
    }
   ],
   "source": [
    "#Drei bedeutendste Orte pro Jahr (Sitze) in ein Dataframe schreiben\n",
    "df_seats_top = pd.DataFrame(df_seats_rel.columns.values[np.argsort(-df_seats_rel.values, axis=1)[:, :3]],\n",
    "                  index=df_seats_rel.index,\n",
    "                  columns = ['1st Max','2nd Max','3rd Max']).reset_index()\n",
    "df_seats_top"
   ]
  },
  {
   "cell_type": "code",
   "execution_count": 14,
   "id": "13fac2e5",
   "metadata": {},
   "outputs": [],
   "source": [
    "#Daten extrahieren für Infografiker\n",
    "df_seats_top.to_excel('Podest-Jahre-2017-bis-2021.xlsx') #Daten für Infografiker"
   ]
  },
  {
   "cell_type": "code",
   "execution_count": 15,
   "id": "e46e90f6",
   "metadata": {},
   "outputs": [
    {
     "data": {
      "text/html": [
       "<div>\n",
       "<style scoped>\n",
       "    .dataframe tbody tr th:only-of-type {\n",
       "        vertical-align: middle;\n",
       "    }\n",
       "\n",
       "    .dataframe tbody tr th {\n",
       "        vertical-align: top;\n",
       "    }\n",
       "\n",
       "    .dataframe thead th {\n",
       "        text-align: right;\n",
       "    }\n",
       "</style>\n",
       "<table border=\"1\" class=\"dataframe\">\n",
       "  <thead>\n",
       "    <tr style=\"text-align: right;\">\n",
       "      <th></th>\n",
       "      <th>Time series</th>\n",
       "      <th>1st Max</th>\n",
       "      <th>2nd Max</th>\n",
       "      <th>3rd Max</th>\n",
       "    </tr>\n",
       "  </thead>\n",
       "  <tbody>\n",
       "    <tr>\n",
       "      <th>0</th>\n",
       "      <td>2017</td>\n",
       "      <td>London</td>\n",
       "      <td>Berlin</td>\n",
       "      <td>Amsterdam</td>\n",
       "    </tr>\n",
       "    <tr>\n",
       "      <th>1</th>\n",
       "      <td>2018</td>\n",
       "      <td>London</td>\n",
       "      <td>Berlin</td>\n",
       "      <td>Wien</td>\n",
       "    </tr>\n",
       "    <tr>\n",
       "      <th>2</th>\n",
       "      <td>2019</td>\n",
       "      <td>London</td>\n",
       "      <td>Berlin</td>\n",
       "      <td>Wien</td>\n",
       "    </tr>\n",
       "    <tr>\n",
       "      <th>3</th>\n",
       "      <td>2020</td>\n",
       "      <td>London</td>\n",
       "      <td>Amsterdam</td>\n",
       "      <td>Berlin</td>\n",
       "    </tr>\n",
       "    <tr>\n",
       "      <th>4</th>\n",
       "      <td>2021</td>\n",
       "      <td>London</td>\n",
       "      <td>Frankfurt</td>\n",
       "      <td>Amsterdam</td>\n",
       "    </tr>\n",
       "  </tbody>\n",
       "</table>\n",
       "</div>"
      ],
      "text/plain": [
       "   Time series 1st Max    2nd Max    3rd Max\n",
       "0         2017  London     Berlin  Amsterdam\n",
       "1         2018  London     Berlin       Wien\n",
       "2         2019  London     Berlin       Wien\n",
       "3         2020  London  Amsterdam     Berlin\n",
       "4         2021  London  Frankfurt  Amsterdam"
      ]
     },
     "execution_count": 15,
     "metadata": {},
     "output_type": "execute_result"
    }
   ],
   "source": [
    "#Drei bedeutendste Zielflughäfen pro Jahr (Flüge) in ein Dataframe schreiben\n",
    "df_flights_top = pd.DataFrame(df_flights_rel.columns.values[np.argsort(-df_flights_rel.values, axis=1)[:, :3]],\n",
    "                  index=df_flights_rel.index,\n",
    "                  columns = ['1st Max','2nd Max','3rd Max']).reset_index()\n",
    "df_flights_top"
   ]
  },
  {
   "cell_type": "markdown",
   "id": "e0031788",
   "metadata": {},
   "source": [
    "Nun schauen wir uns die Veränderungen zu vor der Pandemie an. Wir teilen die Dataframes df_seats und df_seats_rel sowie df_flights und df_flights_rel in jeweils zwei Dataframes auf. Im einen sind die 2019er-Zahlen, also jene aus dem letzten Jahr vor der Pandemie. Im anderen sind die Zahlen während der Jahre 2020 und 2021."
   ]
  },
  {
   "cell_type": "code",
   "execution_count": 16,
   "id": "6c4ee697",
   "metadata": {},
   "outputs": [],
   "source": [
    "df_seats_2019 = df_seats.iloc[2,:].copy()\n",
    "df_seats_pandemie = df_seats.iloc[3:5,:].copy()\n",
    "df_seats_rel_2019 = df_seats_rel.iloc[2,:].copy()\n",
    "df_seats_rel_pandemie = df_seats_rel.iloc[3:5,:].copy()\n",
    "df_flights_2019 = df_flights.iloc[2,:].copy()\n",
    "df_flights_pandemie = df_flights.iloc[3:5,:].copy()\n",
    "df_flights_rel_2019 = df_flights_rel.iloc[2,:].copy()\n",
    "df_flights_rel_pandemie = df_flights_rel.iloc[3:5,:].copy()"
   ]
  },
  {
   "cell_type": "code",
   "execution_count": 17,
   "id": "828f6088",
   "metadata": {},
   "outputs": [],
   "source": [
    "#Unterschiede vor/während Corona\n",
    "df_seats_unterschied = df_seats_pandemie - df_seats_2019\n",
    "df_seats_rel_unterschied = df_seats_rel_pandemie - df_seats_rel_2019\n",
    "df_flights_unterschied = df_flights_pandemie - df_flights_2019\n",
    "df_flights_rel_unterschied = df_flights_rel_pandemie - df_flights_rel_2019"
   ]
  },
  {
   "cell_type": "markdown",
   "id": "e9844fc7",
   "metadata": {},
   "source": [
    "Nun können wir mit diesen Dataframes der Unterschiede verschiedene Auswertungen vornehmen."
   ]
  },
  {
   "cell_type": "code",
   "execution_count": 18,
   "id": "062f0a29",
   "metadata": {},
   "outputs": [
    {
     "data": {
      "text/html": [
       "<div>\n",
       "<style scoped>\n",
       "    .dataframe tbody tr th:only-of-type {\n",
       "        vertical-align: middle;\n",
       "    }\n",
       "\n",
       "    .dataframe tbody tr th {\n",
       "        vertical-align: top;\n",
       "    }\n",
       "\n",
       "    .dataframe thead th {\n",
       "        text-align: right;\n",
       "    }\n",
       "</style>\n",
       "<table border=\"1\" class=\"dataframe\">\n",
       "  <thead>\n",
       "    <tr style=\"text-align: right;\">\n",
       "      <th></th>\n",
       "      <th>0</th>\n",
       "      <th>Values</th>\n",
       "    </tr>\n",
       "    <tr>\n",
       "      <th>Time series</th>\n",
       "      <th></th>\n",
       "      <th></th>\n",
       "    </tr>\n",
       "  </thead>\n",
       "  <tbody>\n",
       "    <tr>\n",
       "      <th>2020</th>\n",
       "      <td>London</td>\n",
       "      <td>-869461.0</td>\n",
       "    </tr>\n",
       "    <tr>\n",
       "      <th>2021</th>\n",
       "      <td>London</td>\n",
       "      <td>-989967.0</td>\n",
       "    </tr>\n",
       "  </tbody>\n",
       "</table>\n",
       "</div>"
      ],
      "text/plain": [
       "                  0    Values\n",
       "Time series                  \n",
       "2020         London -869461.0\n",
       "2021         London -989967.0"
      ]
     },
     "execution_count": 18,
     "metadata": {},
     "output_type": "execute_result"
    }
   ],
   "source": [
    "#Grösste Rückgänge in absoluten Zahlen pro Jahr (Seats)\n",
    "loser_names = df_seats_unterschied.idxmin(axis=1)\n",
    "loser_values = df_seats_unterschied.min(axis=1)\n",
    "loser = pd.DataFrame(loser_names)\n",
    "loser['Values'] = loser_values\n",
    "loser"
   ]
  },
  {
   "cell_type": "code",
   "execution_count": 19,
   "id": "c36f376e",
   "metadata": {},
   "outputs": [
    {
     "data": {
      "text/html": [
       "<div>\n",
       "<style scoped>\n",
       "    .dataframe tbody tr th:only-of-type {\n",
       "        vertical-align: middle;\n",
       "    }\n",
       "\n",
       "    .dataframe tbody tr th {\n",
       "        vertical-align: top;\n",
       "    }\n",
       "\n",
       "    .dataframe thead th {\n",
       "        text-align: right;\n",
       "    }\n",
       "</style>\n",
       "<table border=\"1\" class=\"dataframe\">\n",
       "  <thead>\n",
       "    <tr style=\"text-align: right;\">\n",
       "      <th></th>\n",
       "      <th>0</th>\n",
       "      <th>Values</th>\n",
       "    </tr>\n",
       "    <tr>\n",
       "      <th>Time series</th>\n",
       "      <th></th>\n",
       "      <th></th>\n",
       "    </tr>\n",
       "  </thead>\n",
       "  <tbody>\n",
       "    <tr>\n",
       "      <th>2020</th>\n",
       "      <td>London</td>\n",
       "      <td>-6026.0</td>\n",
       "    </tr>\n",
       "    <tr>\n",
       "      <th>2021</th>\n",
       "      <td>London</td>\n",
       "      <td>-6918.0</td>\n",
       "    </tr>\n",
       "  </tbody>\n",
       "</table>\n",
       "</div>"
      ],
      "text/plain": [
       "                  0  Values\n",
       "Time series                \n",
       "2020         London -6026.0\n",
       "2021         London -6918.0"
      ]
     },
     "execution_count": 19,
     "metadata": {},
     "output_type": "execute_result"
    }
   ],
   "source": [
    "#Grösste Rückgänge in absoluten Zahlen pro Jahr (Flights)\n",
    "loser_names = df_flights_unterschied.idxmin(axis=1)\n",
    "loser_values = df_flights_unterschied.min(axis=1)\n",
    "loser = pd.DataFrame(loser_names)\n",
    "loser['Values'] = loser_values\n",
    "loser"
   ]
  },
  {
   "cell_type": "code",
   "execution_count": 20,
   "id": "21bafeac",
   "metadata": {},
   "outputs": [
    {
     "data": {
      "text/html": [
       "<div>\n",
       "<style scoped>\n",
       "    .dataframe tbody tr th:only-of-type {\n",
       "        vertical-align: middle;\n",
       "    }\n",
       "\n",
       "    .dataframe tbody tr th {\n",
       "        vertical-align: top;\n",
       "    }\n",
       "\n",
       "    .dataframe thead th {\n",
       "        text-align: right;\n",
       "    }\n",
       "</style>\n",
       "<table border=\"1\" class=\"dataframe\">\n",
       "  <thead>\n",
       "    <tr style=\"text-align: right;\">\n",
       "      <th></th>\n",
       "      <th>0</th>\n",
       "      <th>Values</th>\n",
       "    </tr>\n",
       "    <tr>\n",
       "      <th>Time series</th>\n",
       "      <th></th>\n",
       "      <th></th>\n",
       "    </tr>\n",
       "  </thead>\n",
       "  <tbody>\n",
       "    <tr>\n",
       "      <th>2020</th>\n",
       "      <td>London</td>\n",
       "      <td>-0.511527</td>\n",
       "    </tr>\n",
       "    <tr>\n",
       "      <th>2021</th>\n",
       "      <td>London</td>\n",
       "      <td>-2.593174</td>\n",
       "    </tr>\n",
       "  </tbody>\n",
       "</table>\n",
       "</div>"
      ],
      "text/plain": [
       "                  0    Values\n",
       "Time series                  \n",
       "2020         London -0.511527\n",
       "2021         London -2.593174"
      ]
     },
     "execution_count": 20,
     "metadata": {},
     "output_type": "execute_result"
    }
   ],
   "source": [
    "#Grösste Rückgänge in relativen Zahlen pro Jahr (Seats)\n",
    "loser_names = df_seats_rel_unterschied.idxmin(axis=1)\n",
    "loser_values = df_seats_rel_unterschied.min(axis=1)\n",
    "loser = pd.DataFrame(loser_names)\n",
    "loser['Values'] = loser_values\n",
    "loser"
   ]
  },
  {
   "cell_type": "code",
   "execution_count": 21,
   "id": "672e86a8",
   "metadata": {},
   "outputs": [
    {
     "data": {
      "text/html": [
       "<div>\n",
       "<style scoped>\n",
       "    .dataframe tbody tr th:only-of-type {\n",
       "        vertical-align: middle;\n",
       "    }\n",
       "\n",
       "    .dataframe tbody tr th {\n",
       "        vertical-align: top;\n",
       "    }\n",
       "\n",
       "    .dataframe thead th {\n",
       "        text-align: right;\n",
       "    }\n",
       "</style>\n",
       "<table border=\"1\" class=\"dataframe\">\n",
       "  <thead>\n",
       "    <tr style=\"text-align: right;\">\n",
       "      <th></th>\n",
       "      <th>0</th>\n",
       "      <th>Values</th>\n",
       "    </tr>\n",
       "    <tr>\n",
       "      <th>Time series</th>\n",
       "      <th></th>\n",
       "      <th></th>\n",
       "    </tr>\n",
       "  </thead>\n",
       "  <tbody>\n",
       "    <tr>\n",
       "      <th>2020</th>\n",
       "      <td>Lugano</td>\n",
       "      <td>-0.910873</td>\n",
       "    </tr>\n",
       "    <tr>\n",
       "      <th>2021</th>\n",
       "      <td>London</td>\n",
       "      <td>-3.305355</td>\n",
       "    </tr>\n",
       "  </tbody>\n",
       "</table>\n",
       "</div>"
      ],
      "text/plain": [
       "                  0    Values\n",
       "Time series                  \n",
       "2020         Lugano -0.910873\n",
       "2021         London -3.305355"
      ]
     },
     "execution_count": 21,
     "metadata": {},
     "output_type": "execute_result"
    }
   ],
   "source": [
    "#Grösste Rückgänge in relativen Zahlen pro Jahr (Flights)\n",
    "loser_names = df_flights_rel_unterschied.idxmin(axis=1)\n",
    "loser_values = df_flights_rel_unterschied.min(axis=1)\n",
    "loser = pd.DataFrame(loser_names)\n",
    "loser['Values'] = loser_values\n",
    "loser"
   ]
  },
  {
   "cell_type": "code",
   "execution_count": 22,
   "id": "b159f0f8",
   "metadata": {},
   "outputs": [
    {
     "data": {
      "text/html": [
       "<div>\n",
       "<style scoped>\n",
       "    .dataframe tbody tr th:only-of-type {\n",
       "        vertical-align: middle;\n",
       "    }\n",
       "\n",
       "    .dataframe tbody tr th {\n",
       "        vertical-align: top;\n",
       "    }\n",
       "\n",
       "    .dataframe thead th {\n",
       "        text-align: right;\n",
       "    }\n",
       "</style>\n",
       "<table border=\"1\" class=\"dataframe\">\n",
       "  <thead>\n",
       "    <tr style=\"text-align: right;\">\n",
       "      <th>Ort</th>\n",
       "      <th>London</th>\n",
       "      <th>Berlin</th>\n",
       "      <th>Wien</th>\n",
       "      <th>Düsseldorf</th>\n",
       "    </tr>\n",
       "  </thead>\n",
       "  <tbody>\n",
       "    <tr>\n",
       "      <th>2020</th>\n",
       "      <td>-869461.0</td>\n",
       "      <td>-465824.0</td>\n",
       "      <td>-446840.0</td>\n",
       "      <td>NaN</td>\n",
       "    </tr>\n",
       "    <tr>\n",
       "      <th>2021</th>\n",
       "      <td>-989967.0</td>\n",
       "      <td>-540443.0</td>\n",
       "      <td>NaN</td>\n",
       "      <td>-473206.0</td>\n",
       "    </tr>\n",
       "  </tbody>\n",
       "</table>\n",
       "</div>"
      ],
      "text/plain": [
       "Ort     London    Berlin      Wien  Düsseldorf\n",
       "2020 -869461.0 -465824.0 -446840.0         NaN\n",
       "2021 -989967.0 -540443.0       NaN   -473206.0"
      ]
     },
     "execution_count": 22,
     "metadata": {},
     "output_type": "execute_result"
    }
   ],
   "source": [
    "#Die drei grössten Verlierer pro Jahr (Seats)\n",
    "minima = []\n",
    "for column in df_seats_unterschied.T:\n",
    "    min3 = df_seats_unterschied.T.nsmallest(3, columns=column)\n",
    "    minima.append(min3[column])\n",
    "loser3 = pd.DataFrame(minima)\n",
    "loser3"
   ]
  },
  {
   "cell_type": "code",
   "execution_count": 23,
   "id": "160de37a",
   "metadata": {},
   "outputs": [
    {
     "data": {
      "text/html": [
       "<div>\n",
       "<style scoped>\n",
       "    .dataframe tbody tr th:only-of-type {\n",
       "        vertical-align: middle;\n",
       "    }\n",
       "\n",
       "    .dataframe tbody tr th {\n",
       "        vertical-align: top;\n",
       "    }\n",
       "\n",
       "    .dataframe thead th {\n",
       "        text-align: right;\n",
       "    }\n",
       "</style>\n",
       "<table border=\"1\" class=\"dataframe\">\n",
       "  <thead>\n",
       "    <tr style=\"text-align: right;\">\n",
       "      <th>Ort</th>\n",
       "      <th>London</th>\n",
       "      <th>Berlin</th>\n",
       "      <th>Düsseldorf</th>\n",
       "    </tr>\n",
       "  </thead>\n",
       "  <tbody>\n",
       "    <tr>\n",
       "      <th>2020</th>\n",
       "      <td>-6026.0</td>\n",
       "      <td>-3119.0</td>\n",
       "      <td>-2660.0</td>\n",
       "    </tr>\n",
       "    <tr>\n",
       "      <th>2021</th>\n",
       "      <td>-6918.0</td>\n",
       "      <td>-3653.0</td>\n",
       "      <td>-3031.0</td>\n",
       "    </tr>\n",
       "  </tbody>\n",
       "</table>\n",
       "</div>"
      ],
      "text/plain": [
       "Ort   London  Berlin  Düsseldorf\n",
       "2020 -6026.0 -3119.0     -2660.0\n",
       "2021 -6918.0 -3653.0     -3031.0"
      ]
     },
     "execution_count": 23,
     "metadata": {},
     "output_type": "execute_result"
    }
   ],
   "source": [
    "#Die drei grössten Verlierer pro Jahr (Flüge)\n",
    "minima = []\n",
    "for column in df_flights_unterschied.T:\n",
    "    min3 = df_flights_unterschied.T.nsmallest(3, columns=column)\n",
    "    minima.append(min3[column])\n",
    "loser3 = pd.DataFrame(minima)\n",
    "loser3"
   ]
  },
  {
   "cell_type": "code",
   "execution_count": 24,
   "id": "93fd219a",
   "metadata": {},
   "outputs": [
    {
     "data": {
      "text/html": [
       "<div>\n",
       "<style scoped>\n",
       "    .dataframe tbody tr th:only-of-type {\n",
       "        vertical-align: middle;\n",
       "    }\n",
       "\n",
       "    .dataframe tbody tr th {\n",
       "        vertical-align: top;\n",
       "    }\n",
       "\n",
       "    .dataframe thead th {\n",
       "        text-align: right;\n",
       "    }\n",
       "</style>\n",
       "<table border=\"1\" class=\"dataframe\">\n",
       "  <thead>\n",
       "    <tr style=\"text-align: right;\">\n",
       "      <th>Ort</th>\n",
       "      <th>London</th>\n",
       "      <th>Barcelona</th>\n",
       "      <th>Paris</th>\n",
       "      <th>Düsseldorf</th>\n",
       "      <th>Berlin</th>\n",
       "    </tr>\n",
       "  </thead>\n",
       "  <tbody>\n",
       "    <tr>\n",
       "      <th>2020</th>\n",
       "      <td>-0.511527</td>\n",
       "      <td>-0.485982</td>\n",
       "      <td>-0.451343</td>\n",
       "      <td>NaN</td>\n",
       "      <td>NaN</td>\n",
       "    </tr>\n",
       "    <tr>\n",
       "      <th>2021</th>\n",
       "      <td>-2.593174</td>\n",
       "      <td>NaN</td>\n",
       "      <td>NaN</td>\n",
       "      <td>-1.414191</td>\n",
       "      <td>-1.089609</td>\n",
       "    </tr>\n",
       "  </tbody>\n",
       "</table>\n",
       "</div>"
      ],
      "text/plain": [
       "Ort     London  Barcelona     Paris  Düsseldorf    Berlin\n",
       "2020 -0.511527  -0.485982 -0.451343         NaN       NaN\n",
       "2021 -2.593174        NaN       NaN   -1.414191 -1.089609"
      ]
     },
     "execution_count": 24,
     "metadata": {},
     "output_type": "execute_result"
    }
   ],
   "source": [
    "#Die drei grössten Verlierer pro Jahr (Seats relativ)\n",
    "minima = []\n",
    "for column in df_seats_rel_unterschied.T:\n",
    "    min3 = df_seats_rel_unterschied.T.nsmallest(3, columns=column)\n",
    "    minima.append(min3[column])\n",
    "loser3 = pd.DataFrame(minima)\n",
    "loser3"
   ]
  },
  {
   "cell_type": "code",
   "execution_count": 25,
   "id": "faeb0501",
   "metadata": {},
   "outputs": [
    {
     "data": {
      "text/html": [
       "<div>\n",
       "<style scoped>\n",
       "    .dataframe tbody tr th:only-of-type {\n",
       "        vertical-align: middle;\n",
       "    }\n",
       "\n",
       "    .dataframe tbody tr th {\n",
       "        vertical-align: top;\n",
       "    }\n",
       "\n",
       "    .dataframe thead th {\n",
       "        text-align: right;\n",
       "    }\n",
       "</style>\n",
       "<table border=\"1\" class=\"dataframe\">\n",
       "  <thead>\n",
       "    <tr style=\"text-align: right;\">\n",
       "      <th>Ort</th>\n",
       "      <th>Lugano</th>\n",
       "      <th>London</th>\n",
       "      <th>Stuttgart</th>\n",
       "      <th>Berlin</th>\n",
       "      <th>Düsseldorf</th>\n",
       "    </tr>\n",
       "  </thead>\n",
       "  <tbody>\n",
       "    <tr>\n",
       "      <th>2020</th>\n",
       "      <td>-0.910873</td>\n",
       "      <td>-0.892493</td>\n",
       "      <td>-0.71844</td>\n",
       "      <td>NaN</td>\n",
       "      <td>NaN</td>\n",
       "    </tr>\n",
       "    <tr>\n",
       "      <th>2021</th>\n",
       "      <td>NaN</td>\n",
       "      <td>-3.305355</td>\n",
       "      <td>NaN</td>\n",
       "      <td>-1.456843</td>\n",
       "      <td>-1.438412</td>\n",
       "    </tr>\n",
       "  </tbody>\n",
       "</table>\n",
       "</div>"
      ],
      "text/plain": [
       "Ort     Lugano    London  Stuttgart    Berlin  Düsseldorf\n",
       "2020 -0.910873 -0.892493   -0.71844       NaN         NaN\n",
       "2021       NaN -3.305355        NaN -1.456843   -1.438412"
      ]
     },
     "execution_count": 25,
     "metadata": {},
     "output_type": "execute_result"
    }
   ],
   "source": [
    "#Die drei grössten Verlierer pro Jahr (Flights relativ)\n",
    "minima = []\n",
    "for column in df_flights_rel_unterschied.T:\n",
    "    min3 = df_flights_rel_unterschied.T.nsmallest(3, columns=column)\n",
    "    minima.append(min3[column])\n",
    "loser3 = pd.DataFrame(minima)\n",
    "loser3"
   ]
  },
  {
   "cell_type": "code",
   "execution_count": 26,
   "id": "5d34dd59",
   "metadata": {},
   "outputs": [
    {
     "data": {
      "text/html": [
       "<div>\n",
       "<style scoped>\n",
       "    .dataframe tbody tr th:only-of-type {\n",
       "        vertical-align: middle;\n",
       "    }\n",
       "\n",
       "    .dataframe tbody tr th {\n",
       "        vertical-align: top;\n",
       "    }\n",
       "\n",
       "    .dataframe thead th {\n",
       "        text-align: right;\n",
       "    }\n",
       "</style>\n",
       "<table border=\"1\" class=\"dataframe\">\n",
       "  <thead>\n",
       "    <tr style=\"text-align: right;\">\n",
       "      <th></th>\n",
       "      <th>0</th>\n",
       "      <th>Values</th>\n",
       "    </tr>\n",
       "    <tr>\n",
       "      <th>Time series</th>\n",
       "      <th></th>\n",
       "      <th></th>\n",
       "    </tr>\n",
       "  </thead>\n",
       "  <tbody>\n",
       "    <tr>\n",
       "      <th>2020</th>\n",
       "      <td>Dar Es Salaam</td>\n",
       "      <td>2715.0</td>\n",
       "    </tr>\n",
       "    <tr>\n",
       "      <th>2021</th>\n",
       "      <td>Thessaloniki</td>\n",
       "      <td>19421.0</td>\n",
       "    </tr>\n",
       "  </tbody>\n",
       "</table>\n",
       "</div>"
      ],
      "text/plain": [
       "                         0   Values\n",
       "Time series                        \n",
       "2020         Dar Es Salaam   2715.0\n",
       "2021          Thessaloniki  19421.0"
      ]
     },
     "execution_count": 26,
     "metadata": {},
     "output_type": "execute_result"
    }
   ],
   "source": [
    "#Grösste Gewinne in absoluten Zahlen pro Jahr (Seats)\n",
    "winner_names = df_seats_unterschied.idxmax(axis=1)\n",
    "winner_values = df_seats_unterschied.max(axis=1)\n",
    "winner = pd.DataFrame(winner_names)\n",
    "winner['Values'] = winner_values\n",
    "winner"
   ]
  },
  {
   "cell_type": "code",
   "execution_count": 27,
   "id": "5af42d81",
   "metadata": {},
   "outputs": [
    {
     "data": {
      "text/html": [
       "<div>\n",
       "<style scoped>\n",
       "    .dataframe tbody tr th:only-of-type {\n",
       "        vertical-align: middle;\n",
       "    }\n",
       "\n",
       "    .dataframe tbody tr th {\n",
       "        vertical-align: top;\n",
       "    }\n",
       "\n",
       "    .dataframe thead th {\n",
       "        text-align: right;\n",
       "    }\n",
       "</style>\n",
       "<table border=\"1\" class=\"dataframe\">\n",
       "  <thead>\n",
       "    <tr style=\"text-align: right;\">\n",
       "      <th></th>\n",
       "      <th>0</th>\n",
       "      <th>Values</th>\n",
       "    </tr>\n",
       "    <tr>\n",
       "      <th>Time series</th>\n",
       "      <th></th>\n",
       "      <th></th>\n",
       "    </tr>\n",
       "  </thead>\n",
       "  <tbody>\n",
       "    <tr>\n",
       "      <th>2020</th>\n",
       "      <td>Linz</td>\n",
       "      <td>68.0</td>\n",
       "    </tr>\n",
       "    <tr>\n",
       "      <th>2021</th>\n",
       "      <td>Thessaloniki</td>\n",
       "      <td>127.0</td>\n",
       "    </tr>\n",
       "  </tbody>\n",
       "</table>\n",
       "</div>"
      ],
      "text/plain": [
       "                        0  Values\n",
       "Time series                      \n",
       "2020                 Linz    68.0\n",
       "2021         Thessaloniki   127.0"
      ]
     },
     "execution_count": 27,
     "metadata": {},
     "output_type": "execute_result"
    }
   ],
   "source": [
    "#Grösste Gewinne in absoluten Zahlen pro Jahr (Flights)\n",
    "winner_names = df_flights_unterschied.idxmax(axis=1)\n",
    "winner_values = df_flights_unterschied.max(axis=1)\n",
    "winner = pd.DataFrame(winner_names)\n",
    "winner['Values'] = winner_values\n",
    "winner"
   ]
  },
  {
   "cell_type": "code",
   "execution_count": 28,
   "id": "f03c1f44",
   "metadata": {},
   "outputs": [
    {
     "data": {
      "text/html": [
       "<div>\n",
       "<style scoped>\n",
       "    .dataframe tbody tr th:only-of-type {\n",
       "        vertical-align: middle;\n",
       "    }\n",
       "\n",
       "    .dataframe tbody tr th {\n",
       "        vertical-align: top;\n",
       "    }\n",
       "\n",
       "    .dataframe thead th {\n",
       "        text-align: right;\n",
       "    }\n",
       "</style>\n",
       "<table border=\"1\" class=\"dataframe\">\n",
       "  <thead>\n",
       "    <tr style=\"text-align: right;\">\n",
       "      <th></th>\n",
       "      <th>0</th>\n",
       "      <th>Values</th>\n",
       "    </tr>\n",
       "    <tr>\n",
       "      <th>Time series</th>\n",
       "      <th></th>\n",
       "      <th></th>\n",
       "    </tr>\n",
       "  </thead>\n",
       "  <tbody>\n",
       "    <tr>\n",
       "      <th>2020</th>\n",
       "      <td>Doha</td>\n",
       "      <td>0.738585</td>\n",
       "    </tr>\n",
       "    <tr>\n",
       "      <th>2021</th>\n",
       "      <td>Palma De Mallorca</td>\n",
       "      <td>1.529652</td>\n",
       "    </tr>\n",
       "  </tbody>\n",
       "</table>\n",
       "</div>"
      ],
      "text/plain": [
       "                             0    Values\n",
       "Time series                             \n",
       "2020                      Doha  0.738585\n",
       "2021         Palma De Mallorca  1.529652"
      ]
     },
     "execution_count": 28,
     "metadata": {},
     "output_type": "execute_result"
    }
   ],
   "source": [
    "#Grösste Gewinne in relativen Zahlen pro Jahr (Seats)\n",
    "winner_names = df_seats_rel_unterschied.idxmax(axis=1)\n",
    "winner_values = df_seats_rel_unterschied.max(axis=1)\n",
    "winner = pd.DataFrame(winner_names)\n",
    "winner['Values'] = winner_values\n",
    "winner"
   ]
  },
  {
   "cell_type": "code",
   "execution_count": 29,
   "id": "bc89d4d6",
   "metadata": {},
   "outputs": [
    {
     "data": {
      "text/html": [
       "<div>\n",
       "<style scoped>\n",
       "    .dataframe tbody tr th:only-of-type {\n",
       "        vertical-align: middle;\n",
       "    }\n",
       "\n",
       "    .dataframe tbody tr th {\n",
       "        vertical-align: top;\n",
       "    }\n",
       "\n",
       "    .dataframe thead th {\n",
       "        text-align: right;\n",
       "    }\n",
       "</style>\n",
       "<table border=\"1\" class=\"dataframe\">\n",
       "  <thead>\n",
       "    <tr style=\"text-align: right;\">\n",
       "      <th></th>\n",
       "      <th>0</th>\n",
       "      <th>Values</th>\n",
       "    </tr>\n",
       "    <tr>\n",
       "      <th>Time series</th>\n",
       "      <th></th>\n",
       "      <th></th>\n",
       "    </tr>\n",
       "  </thead>\n",
       "  <tbody>\n",
       "    <tr>\n",
       "      <th>2020</th>\n",
       "      <td>Frankfurt</td>\n",
       "      <td>0.958578</td>\n",
       "    </tr>\n",
       "    <tr>\n",
       "      <th>2021</th>\n",
       "      <td>Palma De Mallorca</td>\n",
       "      <td>1.501459</td>\n",
       "    </tr>\n",
       "  </tbody>\n",
       "</table>\n",
       "</div>"
      ],
      "text/plain": [
       "                             0    Values\n",
       "Time series                             \n",
       "2020                 Frankfurt  0.958578\n",
       "2021         Palma De Mallorca  1.501459"
      ]
     },
     "execution_count": 29,
     "metadata": {},
     "output_type": "execute_result"
    }
   ],
   "source": [
    "#Grösste Gewinne in relativen Zahlen pro Jahr (Flights)\n",
    "winner_names = df_flights_rel_unterschied.idxmax(axis=1)\n",
    "winner_values = df_flights_rel_unterschied.max(axis=1)\n",
    "winner = pd.DataFrame(winner_names)\n",
    "winner['Values'] = winner_values\n",
    "winner"
   ]
  },
  {
   "cell_type": "code",
   "execution_count": 30,
   "id": "e23b7650",
   "metadata": {},
   "outputs": [
    {
     "data": {
      "text/html": [
       "<div>\n",
       "<style scoped>\n",
       "    .dataframe tbody tr th:only-of-type {\n",
       "        vertical-align: middle;\n",
       "    }\n",
       "\n",
       "    .dataframe tbody tr th {\n",
       "        vertical-align: top;\n",
       "    }\n",
       "\n",
       "    .dataframe thead th {\n",
       "        text-align: right;\n",
       "    }\n",
       "</style>\n",
       "<table border=\"1\" class=\"dataframe\">\n",
       "  <thead>\n",
       "    <tr style=\"text-align: right;\">\n",
       "      <th>Ort</th>\n",
       "      <th>Dar Es Salaam</th>\n",
       "      <th>Osaka</th>\n",
       "      <th>Menorca</th>\n",
       "      <th>Thessaloniki</th>\n",
       "      <th>Irakleion</th>\n",
       "      <th>Ibiza</th>\n",
       "    </tr>\n",
       "  </thead>\n",
       "  <tbody>\n",
       "    <tr>\n",
       "      <th>2020</th>\n",
       "      <td>2715.0</td>\n",
       "      <td>2453.0</td>\n",
       "      <td>2436.0</td>\n",
       "      <td>NaN</td>\n",
       "      <td>NaN</td>\n",
       "      <td>NaN</td>\n",
       "    </tr>\n",
       "    <tr>\n",
       "      <th>2021</th>\n",
       "      <td>NaN</td>\n",
       "      <td>NaN</td>\n",
       "      <td>NaN</td>\n",
       "      <td>19421.0</td>\n",
       "      <td>17352.0</td>\n",
       "      <td>13470.0</td>\n",
       "    </tr>\n",
       "  </tbody>\n",
       "</table>\n",
       "</div>"
      ],
      "text/plain": [
       "Ort   Dar Es Salaam   Osaka  Menorca  Thessaloniki  Irakleion    Ibiza\n",
       "2020         2715.0  2453.0   2436.0           NaN        NaN      NaN\n",
       "2021            NaN     NaN      NaN       19421.0    17352.0  13470.0"
      ]
     },
     "execution_count": 30,
     "metadata": {},
     "output_type": "execute_result"
    }
   ],
   "source": [
    "#Die drei grössten Gewinner pro Jahr (Seats)\n",
    "maxima = []\n",
    "for column in df_seats_unterschied.T:\n",
    "    max3 = df_seats_unterschied.T.nlargest(3, columns=column)\n",
    "    maxima.append(max3[column])\n",
    "winner3 = pd.DataFrame(maxima)\n",
    "winner3"
   ]
  },
  {
   "cell_type": "code",
   "execution_count": 31,
   "id": "45307ee2",
   "metadata": {},
   "outputs": [
    {
     "data": {
      "text/html": [
       "<div>\n",
       "<style scoped>\n",
       "    .dataframe tbody tr th:only-of-type {\n",
       "        vertical-align: middle;\n",
       "    }\n",
       "\n",
       "    .dataframe tbody tr th {\n",
       "        vertical-align: top;\n",
       "    }\n",
       "\n",
       "    .dataframe thead th {\n",
       "        text-align: right;\n",
       "    }\n",
       "</style>\n",
       "<table border=\"1\" class=\"dataframe\">\n",
       "  <thead>\n",
       "    <tr style=\"text-align: right;\">\n",
       "      <th>Ort</th>\n",
       "      <th>Linz</th>\n",
       "      <th>Menorca</th>\n",
       "      <th>Guernsey</th>\n",
       "      <th>Thessaloniki</th>\n",
       "      <th>Irakleion</th>\n",
       "    </tr>\n",
       "  </thead>\n",
       "  <tbody>\n",
       "    <tr>\n",
       "      <th>2020</th>\n",
       "      <td>68.0</td>\n",
       "      <td>14.0</td>\n",
       "      <td>13.0</td>\n",
       "      <td>NaN</td>\n",
       "      <td>NaN</td>\n",
       "    </tr>\n",
       "    <tr>\n",
       "      <th>2021</th>\n",
       "      <td>86.0</td>\n",
       "      <td>NaN</td>\n",
       "      <td>NaN</td>\n",
       "      <td>127.0</td>\n",
       "      <td>69.0</td>\n",
       "    </tr>\n",
       "  </tbody>\n",
       "</table>\n",
       "</div>"
      ],
      "text/plain": [
       "Ort   Linz  Menorca  Guernsey  Thessaloniki  Irakleion\n",
       "2020  68.0     14.0      13.0           NaN        NaN\n",
       "2021  86.0      NaN       NaN         127.0       69.0"
      ]
     },
     "execution_count": 31,
     "metadata": {},
     "output_type": "execute_result"
    }
   ],
   "source": [
    "#Die drei grössten Gewinner pro Jahr (Flights)\n",
    "maxima = []\n",
    "for column in df_flights_unterschied.T:\n",
    "    max3 = df_flights_unterschied.T.nlargest(3, columns=column)\n",
    "    maxima.append(max3[column])\n",
    "winner3 = pd.DataFrame(maxima)\n",
    "winner3"
   ]
  },
  {
   "cell_type": "code",
   "execution_count": 32,
   "id": "6ead0e8a",
   "metadata": {},
   "outputs": [
    {
     "data": {
      "text/html": [
       "<div>\n",
       "<style scoped>\n",
       "    .dataframe tbody tr th:only-of-type {\n",
       "        vertical-align: middle;\n",
       "    }\n",
       "\n",
       "    .dataframe tbody tr th {\n",
       "        vertical-align: top;\n",
       "    }\n",
       "\n",
       "    .dataframe thead th {\n",
       "        text-align: right;\n",
       "    }\n",
       "</style>\n",
       "<table border=\"1\" class=\"dataframe\">\n",
       "  <thead>\n",
       "    <tr style=\"text-align: right;\">\n",
       "      <th>Ort</th>\n",
       "      <th>Doha</th>\n",
       "      <th>Porto</th>\n",
       "      <th>Frankfurt</th>\n",
       "      <th>Palma De Mallorca</th>\n",
       "      <th>Istanbul</th>\n",
       "    </tr>\n",
       "  </thead>\n",
       "  <tbody>\n",
       "    <tr>\n",
       "      <th>2020</th>\n",
       "      <td>0.738585</td>\n",
       "      <td>0.716671</td>\n",
       "      <td>0.689236</td>\n",
       "      <td>NaN</td>\n",
       "      <td>NaN</td>\n",
       "    </tr>\n",
       "    <tr>\n",
       "      <th>2021</th>\n",
       "      <td>NaN</td>\n",
       "      <td>0.920906</td>\n",
       "      <td>NaN</td>\n",
       "      <td>1.529652</td>\n",
       "      <td>1.467733</td>\n",
       "    </tr>\n",
       "  </tbody>\n",
       "</table>\n",
       "</div>"
      ],
      "text/plain": [
       "Ort       Doha     Porto  Frankfurt  Palma De Mallorca  Istanbul\n",
       "2020  0.738585  0.716671   0.689236                NaN       NaN\n",
       "2021       NaN  0.920906        NaN           1.529652  1.467733"
      ]
     },
     "execution_count": 32,
     "metadata": {},
     "output_type": "execute_result"
    }
   ],
   "source": [
    "#Die drei grössten Gewinner pro Jahr (Seats, relativ)\n",
    "maxima = []\n",
    "for column in df_seats_rel_unterschied.T:\n",
    "    max3 = df_seats_rel_unterschied.T.nlargest(3, columns=column)\n",
    "    maxima.append(max3[column])\n",
    "winner3 = pd.DataFrame(maxima)\n",
    "winner3"
   ]
  },
  {
   "cell_type": "code",
   "execution_count": 33,
   "id": "65c6c576",
   "metadata": {},
   "outputs": [
    {
     "data": {
      "text/html": [
       "<div>\n",
       "<style scoped>\n",
       "    .dataframe tbody tr th:only-of-type {\n",
       "        vertical-align: middle;\n",
       "    }\n",
       "\n",
       "    .dataframe tbody tr th {\n",
       "        vertical-align: top;\n",
       "    }\n",
       "\n",
       "    .dataframe thead th {\n",
       "        text-align: right;\n",
       "    }\n",
       "</style>\n",
       "<table border=\"1\" class=\"dataframe\">\n",
       "  <thead>\n",
       "    <tr style=\"text-align: right;\">\n",
       "      <th>Ort</th>\n",
       "      <th>Frankfurt</th>\n",
       "      <th>Amsterdam</th>\n",
       "      <th>Belgrad</th>\n",
       "      <th>Palma De Mallorca</th>\n",
       "      <th>Istanbul</th>\n",
       "    </tr>\n",
       "  </thead>\n",
       "  <tbody>\n",
       "    <tr>\n",
       "      <th>2020</th>\n",
       "      <td>0.958578</td>\n",
       "      <td>0.872116</td>\n",
       "      <td>0.674658</td>\n",
       "      <td>NaN</td>\n",
       "      <td>NaN</td>\n",
       "    </tr>\n",
       "    <tr>\n",
       "      <th>2021</th>\n",
       "      <td>NaN</td>\n",
       "      <td>NaN</td>\n",
       "      <td>0.908666</td>\n",
       "      <td>1.501459</td>\n",
       "      <td>1.389753</td>\n",
       "    </tr>\n",
       "  </tbody>\n",
       "</table>\n",
       "</div>"
      ],
      "text/plain": [
       "Ort   Frankfurt  Amsterdam   Belgrad  Palma De Mallorca  Istanbul\n",
       "2020   0.958578   0.872116  0.674658                NaN       NaN\n",
       "2021        NaN        NaN  0.908666           1.501459  1.389753"
      ]
     },
     "execution_count": 33,
     "metadata": {},
     "output_type": "execute_result"
    }
   ],
   "source": [
    "#Die drei grössten Gewinner pro Jahr (Flights, relativ)\n",
    "maxima = []\n",
    "for column in df_flights_rel_unterschied.T:\n",
    "    max3 = df_flights_rel_unterschied.T.nlargest(3, columns=column)\n",
    "    maxima.append(max3[column])\n",
    "winner3 = pd.DataFrame(maxima)\n",
    "winner3"
   ]
  },
  {
   "cell_type": "markdown",
   "id": "b4e37448",
   "metadata": {},
   "source": [
    "## 3. Schritt: Modifikationen für durchsuchbare Flourish-Tabelle"
   ]
  },
  {
   "cell_type": "markdown",
   "id": "a4f7389b",
   "metadata": {},
   "source": [
    "Im Artikel soll eine durchsuchbare Tabelle eingefügt werden, die dem Publikum ermöglicht, selber nachzuschlagen, wie sich der Verkehr für eine bestimmte Destination entwickelt hat."
   ]
  },
  {
   "cell_type": "code",
   "execution_count": 34,
   "id": "62319122",
   "metadata": {},
   "outputs": [],
   "source": [
    "#Die Sitze pro Destination und Jahr können im Artikel als durchsuchbare Tabelle angehängt werden.\n",
    "df_seats.to_csv('Sitze-pro-Destination.csv')"
   ]
  }
 ],
 "metadata": {
  "kernelspec": {
   "display_name": "Python 3",
   "language": "python",
   "name": "python3"
  },
  "language_info": {
   "codemirror_mode": {
    "name": "ipython",
    "version": 3
   },
   "file_extension": ".py",
   "mimetype": "text/x-python",
   "name": "python",
   "nbconvert_exporter": "python",
   "pygments_lexer": "ipython3",
   "version": "3.8.8"
  }
 },
 "nbformat": 4,
 "nbformat_minor": 5
}
