{
 "cells": [
  {
   "cell_type": "code",
   "execution_count": 1,
   "id": "6bf89552",
   "metadata": {},
   "outputs": [],
   "source": [
    "import pandas as pd\n",
    "import requests"
   ]
  },
  {
   "cell_type": "markdown",
   "id": "aa864ab4",
   "metadata": {},
   "source": [
    "#### Zu den Daten\n",
    "##### Art des Verkehrs\n",
    "* Linienverkehr: Flüge zur gewerbsmässigen Beförderung von Personen oder Gütern, wenn sie während einer Mindestdauer so regelmässig oder häufig erfolgen, dass es sich erkennbar um eine systematische Folge von Flügen handelt, und im Personenverkehr in der Öffentlichkeit Sitzplätze zum Einzelkauf angeboten werden.\n",
    "* Charterverkehr: Gelegentliche Flugverbindungen, bei denen meist Reiseveranstalter bei einer Fluggesellschaft bestimmte Flüge kaufen. Die Plätze darin werden dann beispielsweise zusammen mit einer Unterkunft zu einem Pauschalreise-Angebot gebündelt."
   ]
  },
  {
   "cell_type": "markdown",
   "id": "6c911b6d",
   "metadata": {},
   "source": [
    "## 1. Schritt: Daten einlesen"
   ]
  },
  {
   "cell_type": "markdown",
   "id": "10b02272",
   "metadata": {},
   "source": [
    "Wir fragen die Daten direkt aus STAT-TAB (Bundesamt für Statistik ab)."
   ]
  },
  {
   "cell_type": "code",
   "execution_count": 2,
   "id": "823e1a8d",
   "metadata": {},
   "outputs": [],
   "source": [
    "url = 'https://www.pxweb.bfs.admin.ch/api/v1/de/px-x-1107020000_101/px-x-1107020000_101.px' #Die URL für die Abfrage direkt aus STAT-TAB\n",
    "\n",
    "#Die JSON-Abfrage für die gewünschten Daten\n",
    "myobj =  {\n",
    "  \"query\": [\n",
    "    {\n",
    "      \"code\": \"Flughafen\",\n",
    "      \"selection\": {\n",
    "        \"filter\": \"item\",\n",
    "        \"values\": [\n",
    "          \"103\"\n",
    "        ]\n",
    "      }\n",
    "    },\n",
    "    {\n",
    "      \"code\": \"Art des Verkehrs\",\n",
    "      \"selection\": {\n",
    "        \"filter\": \"item\",\n",
    "        \"values\": [\n",
    "          \"2\",\n",
    "          \"3\"\n",
    "        ]\n",
    "      }\n",
    "    },\n",
    "    {\n",
    "      \"code\": \"Monat\",\n",
    "      \"selection\": {\n",
    "        \"filter\": \"item\",\n",
    "        \"values\": [\n",
    "          \"1\",\n",
    "          \"2\",\n",
    "          \"3\",\n",
    "          \"4\",\n",
    "          \"5\",\n",
    "          \"6\",\n",
    "          \"7\",\n",
    "          \"8\",\n",
    "          \"9\",\n",
    "          \"10\",\n",
    "          \"11\",\n",
    "          \"12\"\n",
    "        ]\n",
    "      }\n",
    "    },\n",
    "    {\n",
    "      \"code\": \"Jahr\",\n",
    "      \"selection\": {\n",
    "        \"filter\": \"item\",\n",
    "        \"values\": [\n",
    "          \"0\",\n",
    "          \"1\",\n",
    "          \"2\",\n",
    "          \"3\",\n",
    "          \"4\",\n",
    "          \"5\",\n",
    "          \"6\",\n",
    "          \"7\",\n",
    "          \"8\",\n",
    "          \"9\",\n",
    "          \"10\",\n",
    "          \"11\",\n",
    "          \"12\",\n",
    "          \"13\",\n",
    "          \"14\",\n",
    "          \"15\",\n",
    "          \"16\",\n",
    "          \"17\",\n",
    "          \"18\",\n",
    "          \"19\",\n",
    "          \"20\",\n",
    "          \"21\"\n",
    "        ]\n",
    "      }\n",
    "    }\n",
    "  ],\n",
    "  \"response\": {\n",
    "    \"format\": \"json-stat\"\n",
    "  }\n",
    "}\n",
    "\n",
    "data = requests.post(url, json = myobj) #Die Daten abspeichern"
   ]
  },
  {
   "cell_type": "code",
   "execution_count": 3,
   "id": "4061ba07",
   "metadata": {},
   "outputs": [
    {
     "data": {
      "text/plain": [
       "{'dataset': {'status': {'198': '...',\n",
       "   '220': '...',\n",
       "   '242': '...',\n",
       "   '462': '...',\n",
       "   '484': '...',\n",
       "   '506': '...'},\n",
       "  'dimension': {'Flughafen': {'label': 'Flughafen',\n",
       "    'category': {'index': {'103': 0}, 'label': {'103': '... Zürich Kloten'}}},\n",
       "   'Art des Verkehrs': {'label': 'Art des Verkehrs',\n",
       "    'category': {'index': {'2': 0, '3': 1},\n",
       "     'label': {'2': 'Linienverkehr', '3': 'Charterverkehr'}}},\n",
       "   'Monat': {'label': 'Monat',\n",
       "    'category': {'index': {'1': 0,\n",
       "      '2': 1,\n",
       "      '3': 2,\n",
       "      '4': 3,\n",
       "      '5': 4,\n",
       "      '6': 5,\n",
       "      '7': 6,\n",
       "      '8': 7,\n",
       "      '9': 8,\n",
       "      '10': 9,\n",
       "      '11': 10,\n",
       "      '12': 11},\n",
       "     'label': {'1': 'Januar',\n",
       "      '2': 'Februar',\n",
       "      '3': 'März',\n",
       "      '4': 'April',\n",
       "      '5': 'Mai',\n",
       "      '6': 'Juni',\n",
       "      '7': 'Juli',\n",
       "      '8': 'August',\n",
       "      '9': 'September',\n",
       "      '10': 'Oktober',\n",
       "      '11': 'November',\n",
       "      '12': 'Dezember'}}},\n",
       "   'Jahr': {'label': 'Jahr',\n",
       "    'category': {'index': {'0': 0,\n",
       "      '1': 1,\n",
       "      '2': 2,\n",
       "      '3': 3,\n",
       "      '4': 4,\n",
       "      '5': 5,\n",
       "      '6': 6,\n",
       "      '7': 7,\n",
       "      '8': 8,\n",
       "      '9': 9,\n",
       "      '10': 10,\n",
       "      '11': 11,\n",
       "      '12': 12,\n",
       "      '13': 13,\n",
       "      '14': 14,\n",
       "      '15': 15,\n",
       "      '16': 16,\n",
       "      '17': 17,\n",
       "      '18': 18,\n",
       "      '19': 19,\n",
       "      '20': 20,\n",
       "      '21': 21},\n",
       "     'label': {'0': '2021',\n",
       "      '1': '2020',\n",
       "      '2': '2019',\n",
       "      '3': '2018',\n",
       "      '4': '2017',\n",
       "      '5': '2016',\n",
       "      '6': '2015',\n",
       "      '7': '2014',\n",
       "      '8': '2013',\n",
       "      '9': '2012',\n",
       "      '10': '2011',\n",
       "      '11': '2010',\n",
       "      '12': '2009',\n",
       "      '13': '2008',\n",
       "      '14': '2007',\n",
       "      '15': '2006',\n",
       "      '16': '2005',\n",
       "      '17': '2004',\n",
       "      '18': '2003',\n",
       "      '19': '2002',\n",
       "      '20': '2001',\n",
       "      '21': '2000'}}},\n",
       "   'id': ['Flughafen', 'Art des Verkehrs', 'Monat', 'Jahr'],\n",
       "   'size': [1, 2, 12, 22],\n",
       "   'role': {}},\n",
       "  'label': 'Flugbewegungen (Starts und Landungen) im Linien- und Charterverkehr nach Flughafen, Art des Verkehrs, Monat und Jahr',\n",
       "  'source': 'BFS - Luftverkehr, Linien- und Charterverkehr - © BFS',\n",
       "  'updated': '2019-09-05T06:30:00Z',\n",
       "  'value': [3814,\n",
       "   17657,\n",
       "   18800,\n",
       "   17828,\n",
       "   17826,\n",
       "   17415,\n",
       "   17475,\n",
       "   17277,\n",
       "   17831,\n",
       "   18185,\n",
       "   18507,\n",
       "   17449,\n",
       "   17253,\n",
       "   18075,\n",
       "   16822,\n",
       "   17218,\n",
       "   17708,\n",
       "   17087,\n",
       "   19319,\n",
       "   18375,\n",
       "   23084,\n",
       "   21933,\n",
       "   2625,\n",
       "   16302,\n",
       "   17180,\n",
       "   16580,\n",
       "   16383,\n",
       "   16739,\n",
       "   16172,\n",
       "   15923,\n",
       "   16297,\n",
       "   17351,\n",
       "   17306,\n",
       "   16546,\n",
       "   15861,\n",
       "   17229,\n",
       "   15730,\n",
       "   15888,\n",
       "   16694,\n",
       "   16220,\n",
       "   18043,\n",
       "   17040,\n",
       "   21088,\n",
       "   20968,\n",
       "   3144,\n",
       "   9098,\n",
       "   19405,\n",
       "   19115,\n",
       "   18727,\n",
       "   18479,\n",
       "   18272,\n",
       "   17931,\n",
       "   18354,\n",
       "   19075,\n",
       "   19447,\n",
       "   18772,\n",
       "   17945,\n",
       "   18365,\n",
       "   17657,\n",
       "   17750,\n",
       "   18530,\n",
       "   17610,\n",
       "   20132,\n",
       "   18864,\n",
       "   23490,\n",
       "   22802,\n",
       "   4154,\n",
       "   818,\n",
       "   20588,\n",
       "   20309,\n",
       "   19692,\n",
       "   19003,\n",
       "   18741,\n",
       "   18389,\n",
       "   18910,\n",
       "   19009,\n",
       "   19347,\n",
       "   15793,\n",
       "   18105,\n",
       "   18897,\n",
       "   17633,\n",
       "   17130,\n",
       "   18274,\n",
       "   17506,\n",
       "   17817,\n",
       "   18863,\n",
       "   22306,\n",
       "   22475,\n",
       "   5054,\n",
       "   1013,\n",
       "   21555,\n",
       "   21254,\n",
       "   20752,\n",
       "   20452,\n",
       "   19975,\n",
       "   19819,\n",
       "   19737,\n",
       "   19809,\n",
       "   20568,\n",
       "   19618,\n",
       "   18686,\n",
       "   19825,\n",
       "   18651,\n",
       "   18544,\n",
       "   18755,\n",
       "   18192,\n",
       "   18327,\n",
       "   19647,\n",
       "   23180,\n",
       "   23523,\n",
       "   6607,\n",
       "   2379,\n",
       "   21340,\n",
       "   21184,\n",
       "   20560,\n",
       "   20360,\n",
       "   19762,\n",
       "   20157,\n",
       "   19503,\n",
       "   19657,\n",
       "   20034,\n",
       "   19699,\n",
       "   18580,\n",
       "   19415,\n",
       "   18328,\n",
       "   18125,\n",
       "   18478,\n",
       "   18230,\n",
       "   18129,\n",
       "   19417,\n",
       "   22545,\n",
       "   22599,\n",
       "   11683,\n",
       "   6705,\n",
       "   22494,\n",
       "   22616,\n",
       "   21879,\n",
       "   21996,\n",
       "   21219,\n",
       "   21207,\n",
       "   20776,\n",
       "   20705,\n",
       "   21137,\n",
       "   20453,\n",
       "   19334,\n",
       "   20019,\n",
       "   18896,\n",
       "   18499,\n",
       "   19040,\n",
       "   19047,\n",
       "   19197,\n",
       "   20332,\n",
       "   23129,\n",
       "   23356,\n",
       "   12507,\n",
       "   7782,\n",
       "   22369,\n",
       "   22470,\n",
       "   21851,\n",
       "   21955,\n",
       "   21203,\n",
       "   21256,\n",
       "   20555,\n",
       "   20650,\n",
       "   20937,\n",
       "   20382,\n",
       "   19233,\n",
       "   19871,\n",
       "   19041,\n",
       "   18513,\n",
       "   19084,\n",
       "   18884,\n",
       "   19073,\n",
       "   20261,\n",
       "   23131,\n",
       "   23594,\n",
       "   11872,\n",
       "   6638,\n",
       "   21409,\n",
       "   21524,\n",
       "   21043,\n",
       "   21125,\n",
       "   20415,\n",
       "   20523,\n",
       "   19680,\n",
       "   19821,\n",
       "   20475,\n",
       "   19869,\n",
       "   18885,\n",
       "   19130,\n",
       "   18457,\n",
       "   17680,\n",
       "   18358,\n",
       "   18618,\n",
       "   18397,\n",
       "   19609,\n",
       "   22167,\n",
       "   22705,\n",
       "   None,\n",
       "   6067,\n",
       "   21120,\n",
       "   22036,\n",
       "   21083,\n",
       "   20961,\n",
       "   20168,\n",
       "   20450,\n",
       "   19840,\n",
       "   19893,\n",
       "   20623,\n",
       "   20241,\n",
       "   19240,\n",
       "   19511,\n",
       "   19009,\n",
       "   17859,\n",
       "   18518,\n",
       "   18993,\n",
       "   18434,\n",
       "   20210,\n",
       "   17236,\n",
       "   23526,\n",
       "   None,\n",
       "   3635,\n",
       "   17442,\n",
       "   18774,\n",
       "   17789,\n",
       "   17825,\n",
       "   17202,\n",
       "   17497,\n",
       "   17310,\n",
       "   17862,\n",
       "   18491,\n",
       "   18570,\n",
       "   18011,\n",
       "   17705,\n",
       "   17927,\n",
       "   16767,\n",
       "   17055,\n",
       "   18140,\n",
       "   16602,\n",
       "   19325,\n",
       "   17818,\n",
       "   22725,\n",
       "   None,\n",
       "   4356,\n",
       "   17926,\n",
       "   19103,\n",
       "   17756,\n",
       "   18128,\n",
       "   17318,\n",
       "   17329,\n",
       "   16947,\n",
       "   17627,\n",
       "   18297,\n",
       "   17438,\n",
       "   17659,\n",
       "   17475,\n",
       "   17668,\n",
       "   16709,\n",
       "   17019,\n",
       "   17697,\n",
       "   16660,\n",
       "   18761,\n",
       "   17070,\n",
       "   21632,\n",
       "   15,\n",
       "   25,\n",
       "   61,\n",
       "   55,\n",
       "   54,\n",
       "   57,\n",
       "   27,\n",
       "   41,\n",
       "   62,\n",
       "   133,\n",
       "   159,\n",
       "   141,\n",
       "   283,\n",
       "   354,\n",
       "   465,\n",
       "   510,\n",
       "   707,\n",
       "   683,\n",
       "   760,\n",
       "   803,\n",
       "   925,\n",
       "   999,\n",
       "   18,\n",
       "   45,\n",
       "   63,\n",
       "   47,\n",
       "   91,\n",
       "   59,\n",
       "   49,\n",
       "   95,\n",
       "   93,\n",
       "   126,\n",
       "   134,\n",
       "   80,\n",
       "   210,\n",
       "   329,\n",
       "   425,\n",
       "   459,\n",
       "   592,\n",
       "   677,\n",
       "   631,\n",
       "   700,\n",
       "   782,\n",
       "   794,\n",
       "   28,\n",
       "   72,\n",
       "   55,\n",
       "   66,\n",
       "   73,\n",
       "   43,\n",
       "   68,\n",
       "   111,\n",
       "   85,\n",
       "   126,\n",
       "   113,\n",
       "   96,\n",
       "   254,\n",
       "   400,\n",
       "   468,\n",
       "   439,\n",
       "   760,\n",
       "   791,\n",
       "   757,\n",
       "   924,\n",
       "   919,\n",
       "   954,\n",
       "   15,\n",
       "   79,\n",
       "   105,\n",
       "   112,\n",
       "   50,\n",
       "   88,\n",
       "   220,\n",
       "   158,\n",
       "   126,\n",
       "   236,\n",
       "   238,\n",
       "   145,\n",
       "   336,\n",
       "   355,\n",
       "   598,\n",
       "   769,\n",
       "   927,\n",
       "   1233,\n",
       "   1072,\n",
       "   1293,\n",
       "   1489,\n",
       "   1539,\n",
       "   21,\n",
       "   144,\n",
       "   122,\n",
       "   121,\n",
       "   84,\n",
       "   143,\n",
       "   314,\n",
       "   283,\n",
       "   244,\n",
       "   325,\n",
       "   291,\n",
       "   299,\n",
       "   400,\n",
       "   497,\n",
       "   665,\n",
       "   797,\n",
       "   1183,\n",
       "   1357,\n",
       "   1341,\n",
       "   1630,\n",
       "   1701,\n",
       "   1778,\n",
       "   43,\n",
       "   57,\n",
       "   160,\n",
       "   157,\n",
       "   87,\n",
       "   171,\n",
       "   409,\n",
       "   341,\n",
       "   266,\n",
       "   346,\n",
       "   308,\n",
       "   262,\n",
       "   422,\n",
       "   588,\n",
       "   734,\n",
       "   891,\n",
       "   1213,\n",
       "   1384,\n",
       "   1402,\n",
       "   1724,\n",
       "   1780,\n",
       "   1872,\n",
       "   126,\n",
       "   23,\n",
       "   222,\n",
       "   232,\n",
       "   130,\n",
       "   220,\n",
       "   489,\n",
       "   413,\n",
       "   438,\n",
       "   571,\n",
       "   483,\n",
       "   445,\n",
       "   706,\n",
       "   832,\n",
       "   1036,\n",
       "   1328,\n",
       "   1711,\n",
       "   1990,\n",
       "   1911,\n",
       "   2297,\n",
       "   2327,\n",
       "   2765,\n",
       "   117,\n",
       "   45,\n",
       "   186,\n",
       "   217,\n",
       "   114,\n",
       "   169,\n",
       "   453,\n",
       "   407,\n",
       "   362,\n",
       "   457,\n",
       "   400,\n",
       "   345,\n",
       "   655,\n",
       "   785,\n",
       "   994,\n",
       "   1173,\n",
       "   1538,\n",
       "   1755,\n",
       "   1951,\n",
       "   2325,\n",
       "   2235,\n",
       "   2611,\n",
       "   85,\n",
       "   48,\n",
       "   173,\n",
       "   197,\n",
       "   105,\n",
       "   163,\n",
       "   445,\n",
       "   412,\n",
       "   368,\n",
       "   434,\n",
       "   358,\n",
       "   314,\n",
       "   461,\n",
       "   614,\n",
       "   915,\n",
       "   1097,\n",
       "   1241,\n",
       "   1648,\n",
       "   1524,\n",
       "   1883,\n",
       "   2084,\n",
       "   2012,\n",
       "   None,\n",
       "   50,\n",
       "   245,\n",
       "   298,\n",
       "   197,\n",
       "   269,\n",
       "   575,\n",
       "   511,\n",
       "   363,\n",
       "   543,\n",
       "   613,\n",
       "   570,\n",
       "   566,\n",
       "   799,\n",
       "   976,\n",
       "   1218,\n",
       "   1539,\n",
       "   1864,\n",
       "   1715,\n",
       "   2008,\n",
       "   2115,\n",
       "   2071,\n",
       "   None,\n",
       "   22,\n",
       "   48,\n",
       "   59,\n",
       "   39,\n",
       "   68,\n",
       "   80,\n",
       "   95,\n",
       "   94,\n",
       "   77,\n",
       "   145,\n",
       "   149,\n",
       "   115,\n",
       "   362,\n",
       "   371,\n",
       "   512,\n",
       "   525,\n",
       "   798,\n",
       "   820,\n",
       "   825,\n",
       "   752,\n",
       "   807,\n",
       "   None,\n",
       "   21,\n",
       "   47,\n",
       "   76,\n",
       "   53,\n",
       "   43,\n",
       "   44,\n",
       "   27,\n",
       "   73,\n",
       "   46,\n",
       "   158,\n",
       "   139,\n",
       "   133,\n",
       "   322,\n",
       "   364,\n",
       "   516,\n",
       "   533,\n",
       "   696,\n",
       "   745,\n",
       "   781,\n",
       "   881,\n",
       "   1004]}}"
      ]
     },
     "execution_count": 3,
     "metadata": {},
     "output_type": "execute_result"
    }
   ],
   "source": [
    "#Erster Blick in die Struktur der Daten\n",
    "data.json()"
   ]
  },
  {
   "cell_type": "code",
   "execution_count": 4,
   "id": "5f241965",
   "metadata": {},
   "outputs": [
    {
     "data": {
      "text/plain": [
       "['status', 'dimension', 'label', 'source', 'updated', 'value']"
      ]
     },
     "execution_count": 4,
     "metadata": {},
     "output_type": "execute_result"
    }
   ],
   "source": [
    "#Die oberste Ebene 'dataset' genauer anschauen\n",
    "list(data.json()['dataset'])"
   ]
  },
  {
   "cell_type": "code",
   "execution_count": 5,
   "id": "81a05265",
   "metadata": {},
   "outputs": [
    {
     "data": {
      "text/plain": [
       "['Flughafen', 'Art des Verkehrs', 'Monat', 'Jahr', 'id', 'size', 'role']"
      ]
     },
     "execution_count": 5,
     "metadata": {},
     "output_type": "execute_result"
    }
   ],
   "source": [
    "#Relevant sind 'value' (=Wert) und einige der Angaben unter 'dimension'\n",
    "list(data.json()['dataset']['dimension'])"
   ]
  },
  {
   "cell_type": "code",
   "execution_count": 6,
   "id": "6e41b305",
   "metadata": {},
   "outputs": [],
   "source": [
    "#Die relevanten Daten als Listen herausfiltern\n",
    "monat = data.json()['dataset']['dimension']['Monat']['category']['label']\n",
    "monat = list(monat.values())\n",
    "jahr = data.json()['dataset']['dimension']['Jahr']['category']['label']\n",
    "jahr = list(jahr.values())\n",
    "flüge = data.json()['dataset']['value']"
   ]
  },
  {
   "cell_type": "markdown",
   "id": "399ace5f",
   "metadata": {},
   "source": [
    "Die Daten (Anzahl Flüge) liegen in einer Liste vor, die verschiedene Dimensions beinhaltet. Konkret: Zuerst sind die Zahlen der Art des Verkehrs \"Linienverkehr\" hintereinander erfasst. Dabei werden erst die Zahlen aller Januare von 2021 bis 2000 zurück hintereinander abgebildet, danach alle Februare usw. Wenn alle Monate durch sind, folgt die Art des Verkehrs \"Charterverkehr\", wiederum für alle Monate.\n",
    "\n",
    "Das heisst auch, es sind pro Jahr zwei verschiedene Januare, zwei verschiedene Februare usw. enthalten, also 2 x 12 = 24 Monate. Die Länge der Liste passagiere ergibt sich aus diesen 24 Monaten und den Anzahl Jahren, die abgefragt werden."
   ]
  },
  {
   "cell_type": "markdown",
   "id": "333d8bca",
   "metadata": {},
   "source": [
    "Im Datensatz sind n Anzahl Jahre enthalten. Das heisst, es gibt in der Liste passagiere n Einträge eines Monats einer Verkehrsart. Nach diesen n einzelnen Werten folgt jeweils der nächste Monat."
   ]
  },
  {
   "cell_type": "code",
   "execution_count": 7,
   "id": "1bd9a18b",
   "metadata": {},
   "outputs": [],
   "source": [
    "n = int(len(flüge))/24 #Pro Jahr sind 24 Monate (2x12) enthalten. Die Länge der Liste durch 24 ergibt die Anzahl Jahre.\n",
    "n = int(n)\n",
    "monate=[flüge[i:i + n] for i in range(0, len(flüge), n)] #Aufteilen der Liste in Listen einzelner Monate"
   ]
  },
  {
   "cell_type": "markdown",
   "id": "51b9c866",
   "metadata": {},
   "source": [
    "Wir haben nun für alle Monate einzelne Listen, die wiederum in einer Liste enthalten sind. Jeweils 12 Listen sind ein Jahr (Januar bis Dezember) für die oben erwähnten unterschiedlichen Verkehrsarten. Daraus können wir unterschiedliche Dataframes machen."
   ]
  },
  {
   "cell_type": "code",
   "execution_count": 8,
   "id": "93ad9859",
   "metadata": {},
   "outputs": [],
   "source": [
    "dflinie = pd.DataFrame(monate[0:12])\n",
    "dfcharter = pd.DataFrame(monate[12:24])"
   ]
  },
  {
   "cell_type": "code",
   "execution_count": 9,
   "id": "00f54f66",
   "metadata": {},
   "outputs": [],
   "source": [
    "#Indexe als Monat\n",
    "dflinie.index = monat\n",
    "dfcharter.index = monat"
   ]
  },
  {
   "cell_type": "code",
   "execution_count": 10,
   "id": "08ee0008",
   "metadata": {},
   "outputs": [],
   "source": [
    "#Jahre als Header\n",
    "dflinie.columns = jahr\n",
    "dfcharter.columns = jahr"
   ]
  },
  {
   "cell_type": "markdown",
   "id": "944111d7",
   "metadata": {},
   "source": [
    "Wir haben nun zwei Dataframes:\n",
    "- Linienverkehr\n",
    "- Charterverkehr\n",
    "\n",
    "Diese liegen in einer Art Matrix vor. Für die Weiterbearbeitung wäre es günstiger, die Dataframes wären in einem Wide-Format."
   ]
  },
  {
   "cell_type": "code",
   "execution_count": 11,
   "id": "6dabd909",
   "metadata": {},
   "outputs": [
    {
     "data": {
      "text/plain": [
       "'German_Germany.1252'"
      ]
     },
     "execution_count": 11,
     "metadata": {},
     "output_type": "execute_result"
    }
   ],
   "source": [
    "import locale\n",
    "locale.setlocale(locale.LC_ALL, 'deu_deu') #locale auf Deutsch umstellen, weil wir mit Datumsangaben arbeiten müssen"
   ]
  },
  {
   "cell_type": "markdown",
   "id": "b6b96ad2",
   "metadata": {},
   "source": [
    "Um aus der Matrix eine Tabelle mit einer Zeile zu machen, müssen wir das einzelne Dataframe zuerst \"stacken\" und dann pivotieren. Danach konvertieren wir die Spalten, die jetzt als Text in zwei Header-Leveln vorliegen als Datetime-Format und sortieren."
   ]
  },
  {
   "cell_type": "code",
   "execution_count": 12,
   "id": "cad467fc",
   "metadata": {},
   "outputs": [],
   "source": [
    "dflinie = dflinie.stack().reset_index().pivot_table(columns=[\"level_1\",\"level_0\"])\n",
    "dfcharter = dfcharter.stack().reset_index().pivot_table(columns=[\"level_1\",\"level_0\"])"
   ]
  },
  {
   "cell_type": "code",
   "execution_count": 13,
   "id": "22f8f733",
   "metadata": {},
   "outputs": [],
   "source": [
    "dflinie.columns = pd.to_datetime([\"-\".join(col).strip() for col in dflinie.columns.values],format=\"%Y-%B\")\n",
    "dflinie = dflinie.reindex(sorted(dflinie.columns, key=lambda x: (x.year, x.month)), axis=1) \n",
    "dfcharter.columns = pd.to_datetime([\"-\".join(col).strip() for col in dfcharter.columns.values],format=\"%Y-%B\")\n",
    "dfcharter = dfcharter.reindex(sorted(dfcharter.columns, key=lambda x: (x.year, x.month)), axis=1) "
   ]
  },
  {
   "cell_type": "markdown",
   "id": "a1f405f7",
   "metadata": {},
   "source": [
    "Die Header würden jetzt im Muster 2021-01-01 angezeigt, weshalb wir diese wiederum zu Strings nach dem Muster 2021-Jan konvertieren."
   ]
  },
  {
   "cell_type": "code",
   "execution_count": 14,
   "id": "f564b718",
   "metadata": {},
   "outputs": [],
   "source": [
    "dflinie.columns = [col.strftime(\"%Y-%b\") for col in dflinie.columns]\n",
    "dfcharter.columns = [col.strftime(\"%Y-%b\") for col in dfcharter.columns]"
   ]
  },
  {
   "cell_type": "markdown",
   "id": "77e64408",
   "metadata": {},
   "source": [
    "Nun führen wir die Dataframes zu einem zusammen."
   ]
  },
  {
   "cell_type": "code",
   "execution_count": 15,
   "id": "75307d2d",
   "metadata": {},
   "outputs": [],
   "source": [
    "frames = [dflinie, dfcharter]\n",
    "df = pd.concat(frames)"
   ]
  },
  {
   "cell_type": "markdown",
   "id": "1712bd65",
   "metadata": {},
   "source": [
    "Damit der Index stimmt, ergänzen wir eine weitere Column, die wir dann zum Index machen."
   ]
  },
  {
   "cell_type": "code",
   "execution_count": 16,
   "id": "a7dfb713",
   "metadata": {},
   "outputs": [],
   "source": [
    "index = [\"Linienverkehr\", \"Charterverkehr\"]\n",
    "df[\"index\"] = index\n",
    "df.set_index(\"index\", inplace=True)"
   ]
  },
  {
   "cell_type": "markdown",
   "id": "8e4a042e",
   "metadata": {},
   "source": [
    "## 2. Schritt: Daten auswerten"
   ]
  },
  {
   "cell_type": "markdown",
   "id": "47dd768f",
   "metadata": {},
   "source": [
    "In einem ersten Schritt schauen wir uns die Entwicklung der Flugbewegungen an."
   ]
  },
  {
   "cell_type": "code",
   "execution_count": 17,
   "id": "48c4b8f1",
   "metadata": {},
   "outputs": [
    {
     "data": {
      "text/plain": [
       "<AxesSubplot:>"
      ]
     },
     "execution_count": 17,
     "metadata": {},
     "output_type": "execute_result"
    },
    {
     "data": {
      "image/png": "[encoded data removed]",
      "text/plain": [
       "<Figure size 1080x432 with 1 Axes>"
      ]
     },
     "metadata": {
      "needs_background": "light"
     },
     "output_type": "display_data"
    }
   ],
   "source": [
    "df.T.plot(figsize=(15,6))"
   ]
  },
  {
   "cell_type": "markdown",
   "id": "bf2395a2",
   "metadata": {},
   "source": [
    "Indem wir uns den Zeitraum ab 2018 anschauen, können wir Jahresmuster erkennen."
   ]
  },
  {
   "cell_type": "code",
   "execution_count": 18,
   "id": "45e66226",
   "metadata": {},
   "outputs": [
    {
     "data": {
      "text/plain": [
       "<AxesSubplot:>"
      ]
     },
     "execution_count": 18,
     "metadata": {},
     "output_type": "execute_result"
    },
    {
     "data": {
      "image/png": "[encoded data removed]",
      "text/plain": [
       "<Figure size 1080x432 with 1 Axes>"
      ]
     },
     "metadata": {
      "needs_background": "light"
     },
     "output_type": "display_data"
    }
   ],
   "source": [
    "df.iloc[0:1,216:].T.plot(figsize=(15,6), grid=True) #Linienverkehr"
   ]
  },
  {
   "cell_type": "code",
   "execution_count": 19,
   "id": "712141af",
   "metadata": {
    "scrolled": true
   },
   "outputs": [
    {
     "data": {
      "text/plain": [
       "<AxesSubplot:>"
      ]
     },
     "execution_count": 19,
     "metadata": {},
     "output_type": "execute_result"
    },
    {
     "data": {
      "image/png": "[encoded data removed]",
      "text/plain": [
       "<Figure size 1080x432 with 1 Axes>"
      ]
     },
     "metadata": {
      "needs_background": "light"
     },
     "output_type": "display_data"
    }
   ],
   "source": [
    "df.iloc[1:2,216:].T.plot(figsize=(15,6), grid=True) #Charterverkehr"
   ]
  },
  {
   "cell_type": "markdown",
   "id": "42ea86f6",
   "metadata": {},
   "source": [
    "Nun analysieren wir Veränderungen zum Vorjahr und zum Vormonat. Dazu hängen wir der transponierten Tabelle die Spalten mit Vorjahres- (YoY) und Vormonatsveränderungen (MoM) an."
   ]
  },
  {
   "cell_type": "code",
   "execution_count": 20,
   "id": "8341e33d",
   "metadata": {},
   "outputs": [],
   "source": [
    "df_vorjahr = df.T\n",
    "df_vorjahr[\"Linie YoY\"] = df_vorjahr[\"Linienverkehr\"].pct_change(12).mul(100)\n",
    "df_vorjahr[\"Charter YoY\"] = df_vorjahr[\"Charterverkehr\"].pct_change(12).mul(100)\n",
    "df_vorjahr[\"Linie MoM\"] = df_vorjahr[\"Linienverkehr\"].pct_change().mul(100)\n",
    "df_vorjahr[\"Charter MoM\"] = df_vorjahr[\"Charterverkehr\"].pct_change().mul(100)"
   ]
  },
  {
   "cell_type": "markdown",
   "id": "673fdb82",
   "metadata": {},
   "source": [
    "Nun betrachten wir die Veränderungen in den verschiedenen Dimensionen."
   ]
  },
  {
   "cell_type": "code",
   "execution_count": 21,
   "id": "8e4b586b",
   "metadata": {},
   "outputs": [
    {
     "data": {
      "text/plain": [
       "<AxesSubplot:>"
      ]
     },
     "execution_count": 21,
     "metadata": {},
     "output_type": "execute_result"
    },
    {
     "data": {
      "image/png": "[encoded data removed]",
      "text/plain": [
       "<Figure size 1080x432 with 1 Axes>"
      ]
     },
     "metadata": {
      "needs_background": "light"
     },
     "output_type": "display_data"
    }
   ],
   "source": [
    "df_vorjahr.iloc[216:,4:5].plot(kind=\"bar\", figsize=(15,6)) #Vormonat, Linineverkehr"
   ]
  },
  {
   "cell_type": "code",
   "execution_count": 22,
   "id": "db2c31a9",
   "metadata": {},
   "outputs": [
    {
     "data": {
      "text/plain": [
       "<AxesSubplot:>"
      ]
     },
     "execution_count": 22,
     "metadata": {},
     "output_type": "execute_result"
    },
    {
     "data": {
      "image/png": "[encoded data removed]",
      "text/plain": [
       "<Figure size 1080x432 with 1 Axes>"
      ]
     },
     "metadata": {
      "needs_background": "light"
     },
     "output_type": "display_data"
    }
   ],
   "source": [
    "df_vorjahr.iloc[216:,2:3].plot(kind=\"bar\", figsize=(15,6)) #Vorjahr, Linienverkehr"
   ]
  },
  {
   "cell_type": "markdown",
   "id": "e16cc707",
   "metadata": {},
   "source": [
    "Die Grafik hat ein offensichtliches Problem: Der Einbruch wegen der Pandemie (ab März 2000) kann allerhöchstens 100 Prozent sein. Die Erholung im 2021 scheint extrem hoch, sie wird aber mit den Pandemiemonaten 2020 verglichen und ist deshalb überzeichnet. Selbst im April mit einem Plus von rund 400% zum Vorjahr sind die Flugbewegungen noch deutlicher unter dem Vor-Pandemie-Wert. Für die Erholung des Flugverkehrs sind deshalb Vergleiche mit 2019 sinnvoller. Deshalb erstellen wir zwei Dataframes, eines mit 2019er-Werten, eines mit jenen danach. Und eruieren dann jeweils die Differenz der Monate während der Pandemie mit jenen vor der Pandemie."
   ]
  },
  {
   "cell_type": "code",
   "execution_count": 23,
   "id": "a80f18d1",
   "metadata": {},
   "outputs": [],
   "source": [
    "df_2019 = df.iloc[:,228:240].T.reset_index()\n",
    "df_pandemie = df.iloc[:,240:].T.reset_index()"
   ]
  },
  {
   "cell_type": "code",
   "execution_count": 24,
   "id": "474109b6",
   "metadata": {},
   "outputs": [],
   "source": [
    "#Dataframes mit unterschiedlichen Längen\n",
    "difflinie = df_pandemie['Linienverkehr'].sub(df_pandemie['index'].str.split('-').str[-1].map(dict(zip(df_2019['index'].str.split('-').str[-1], df_2019['Linienverkehr']))))\n",
    "diffcharter = df_pandemie['Charterverkehr'].sub(df_pandemie['index'].str.split('-').str[-1].map(dict(zip(df_2019['index'].str.split('-').str[-1], df_2019['Charterverkehr']))))"
   ]
  },
  {
   "cell_type": "markdown",
   "id": "19d32fe7",
   "metadata": {},
   "source": [
    "Die Erklärung dieser Codezeile bzw. Codezeilen (es ist zweimal dasselbe Vorgehen):\n",
    "* Im ersten Teil des Teils nach .sub (zum Teil davor weiter unten) (bis vor .map) nehmen wir den Monat des Pandemie-Dfs.\n",
    "* Auf diesen Teil wenden wir später .map an.\n",
    "* In der Klammer nach .map wird ein Dictionary erzeugt mit dem Monat des 2019-Dataframes und dem entsprechenden Wert des Monats im gleichen Dataframe.\n",
    "* Der Key dieses Dictionarys ist dann jeweils der Monat. \n",
    "* .map nimmt nun den Monat vom ersten Teil (also vom Pandemie-Dataframe) und sucht den korrekten Key vom Dictionary (also den Monat vom 2019-Dataframe) und gibt den Wert davon aus.\n",
    "* In der Klammer nach .sub steht also am Ende ein Wert, der vom Wert vom Teil vor .sub abgezogen wird. Vor .sub steht das Pandemie-Dataframe. Es ergibt sich also am Schluss: Monatswert im Pandemie-Dataframe minus Monatswert im 2019er-Dataframe gleich Differenz vom Monat ab 2020 zum gleichen Monat im Jahr 2019."
   ]
  },
  {
   "cell_type": "code",
   "execution_count": 25,
   "id": "020ef903",
   "metadata": {},
   "outputs": [],
   "source": [
    "#Neue Spalten dem Dataframe anhängen\n",
    "df_pandemie['Linienverkehr zu 2019'] = difflinie\n",
    "df_pandemie['Charterverkehr zu 2019'] = diffcharter"
   ]
  },
  {
   "cell_type": "code",
   "execution_count": 26,
   "id": "3735e9ad",
   "metadata": {},
   "outputs": [],
   "source": [
    "df_pandemie.set_index('index', inplace=True)"
   ]
  },
  {
   "cell_type": "code",
   "execution_count": 27,
   "id": "a7ff59b5",
   "metadata": {},
   "outputs": [
    {
     "data": {
      "text/plain": [
       "<AxesSubplot:xlabel='index'>"
      ]
     },
     "execution_count": 27,
     "metadata": {},
     "output_type": "execute_result"
    },
    {
     "data": {
      "image/png": "[encoded data removed]",
      "text/plain": [
       "<Figure size 1080x432 with 1 Axes>"
      ]
     },
     "metadata": {
      "needs_background": "light"
     },
     "output_type": "display_data"
    }
   ],
   "source": [
    "df_pandemie.iloc[:,2:3].plot(kind=\"bar\", figsize=(15,6)) #Unterschiede zum Vor-Pandemie-Monat, Linienverkehr"
   ]
  },
  {
   "cell_type": "code",
   "execution_count": 28,
   "id": "964d059f",
   "metadata": {},
   "outputs": [
    {
     "data": {
      "text/plain": [
       "<AxesSubplot:xlabel='index'>"
      ]
     },
     "execution_count": 28,
     "metadata": {},
     "output_type": "execute_result"
    },
    {
     "data": {
      "image/png": "[encoded data removed]",
      "text/plain": [
       "<Figure size 1080x432 with 1 Axes>"
      ]
     },
     "metadata": {
      "needs_background": "light"
     },
     "output_type": "display_data"
    }
   ],
   "source": [
    "df_pandemie.iloc[:,3:4].plot(kind=\"bar\", figsize=(15,6)) #Unterschiede zum Vor-Pandemie-Monat, Charterverkehr"
   ]
  },
  {
   "cell_type": "markdown",
   "id": "00ff97b4",
   "metadata": {},
   "source": [
    "Nun berechnen wir die Unterschiede in Prozent."
   ]
  },
  {
   "cell_type": "code",
   "execution_count": 29,
   "id": "e1ccaf05",
   "metadata": {},
   "outputs": [],
   "source": [
    "df_pandemie['Linienverkehr zu 2019 in %'] = df_pandemie['Linienverkehr zu 2019']/(df_pandemie[\"Linienverkehr\"] - df_pandemie['Linienverkehr zu 2019'])*100\n",
    "df_pandemie['Charterverkehr zu 2019 in %'] = df_pandemie['Charterverkehr zu 2019']/(df_pandemie[\"Charterverkehr\"] - df_pandemie['Charterverkehr zu 2019'])*100"
   ]
  },
  {
   "cell_type": "code",
   "execution_count": 30,
   "id": "4734beee",
   "metadata": {},
   "outputs": [
    {
     "data": {
      "text/plain": [
       "<AxesSubplot:xlabel='index'>"
      ]
     },
     "execution_count": 30,
     "metadata": {},
     "output_type": "execute_result"
    },
    {
     "data": {
      "image/png": "[encoded data removed]",
      "text/plain": [
       "<Figure size 1080x432 with 1 Axes>"
      ]
     },
     "metadata": {
      "needs_background": "light"
     },
     "output_type": "display_data"
    }
   ],
   "source": [
    "df_pandemie.iloc[:,4:5].plot(kind=\"bar\", figsize=(15,6)) #Unterschiede zum Vor-Pandemie-Monat in %, Linienverkehr "
   ]
  },
  {
   "cell_type": "code",
   "execution_count": 31,
   "id": "b97c68da",
   "metadata": {},
   "outputs": [
    {
     "data": {
      "text/plain": [
       "<AxesSubplot:xlabel='index'>"
      ]
     },
     "execution_count": 31,
     "metadata": {},
     "output_type": "execute_result"
    },
    {
     "data": {
      "image/png": "[encoded data removed]",
      "text/plain": [
       "<Figure size 1080x432 with 1 Axes>"
      ]
     },
     "metadata": {
      "needs_background": "light"
     },
     "output_type": "display_data"
    }
   ],
   "source": [
    "df_pandemie.iloc[:,5:6].plot(kind=\"bar\", figsize=(15,6)) #Unterschiede zum Vor-Pandemie-Monat in Prozent, Charterverkehr"
   ]
  }
 ],
 "metadata": {
  "kernelspec": {
   "display_name": "Python 3",
   "language": "python",
   "name": "python3"
  },
  "language_info": {
   "codemirror_mode": {
    "name": "ipython",
    "version": 3
   },
   "file_extension": ".py",
   "mimetype": "text/x-python",
   "name": "python",
   "nbconvert_exporter": "python",
   "pygments_lexer": "ipython3",
   "version": "3.8.8"
  }
 },
 "nbformat": 4,
 "nbformat_minor": 5
}
